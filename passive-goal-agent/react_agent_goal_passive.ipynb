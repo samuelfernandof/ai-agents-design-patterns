{
  "nbformat": 4,
  "nbformat_minor": 0,
  "metadata": {
    "colab": {
      "provenance": []
    },
    "kernelspec": {
      "name": "python3",
      "display_name": "Python 3"
    },
    "language_info": {
      "name": "python"
    }
  },
  "cells": [
    {
      "cell_type": "code",
      "source": [
        "!pip -q install langchain-core langchain-community langgraph langchain-openai duckduckgo-search"
      ],
      "metadata": {
        "id": "dVYp7LLzhDDM"
      },
      "execution_count": null,
      "outputs": []
    },
    {
      "cell_type": "markdown",
      "source": [
        "## LangGraph ReAct Function Calling Pattern\n",
        "\n",
        "- Search\n",
        "\n",
        "- Math\n",
        "\n",
        "---\n",
        "\n"
      ],
      "metadata": {
        "id": "_PK5Dpx4j02e"
      }
    },
    {
      "cell_type": "markdown",
      "source": [
        "react_prompt = \"\"\"O Assistente é um grande modelo de linguagem treinado pela Microsoft.\n",
        "\n",
        "O Assistente foi projetado para ser capaz de ajudar em uma ampla gama de tarefas, desde responder perguntas simples até fornecer explicações detalhadas e discussões sobre uma ampla variedade de tópicos. Como um modelo de linguagem, o Assistente é capaz de gerar texto semelhante ao humano com base na entrada que recebe, permitindo que ele se envolva em conversas que soam naturais e forneça respostas que sejam coerentes e relevantes para o tópico em questão.\n",
        "\n",
        "O Assistente está constantemente aprendendo e melhorando, e suas capacidades estão em constante evolução. Ele é capaz de processar e entender grandes quantidades de texto e pode usar esse conhecimento para fornecer respostas precisas e informativas a uma ampla gama de perguntas. Além disso, o Assistente é capaz de gerar seu próprio texto com base na entrada que recebe, permitindo que ele participe de discussões e forneça explicações e descrições sobre uma ampla variedade de tópicos.\n",
        "\n",
        "No geral, o Assistente é uma ferramenta poderosa que pode ajudar em uma ampla gama de tarefas e fornecer insights e informações valiosas sobre uma ampla gama de tópicos. Seja você precisando de ajuda com uma pergunta específica ou apenas querendo ter uma conversa sobre um determinado tópico, o Assistente está aqui para ajudar.\n",
        "\n",
        "FERRAMENTAS:\n",
        "------\n",
        "\n",
        "O Assistente tem acesso às seguintes ferramentas:\n",
        "\n",
        "pesquisa_wikipedia - busca na base de dados da Wikipedia pela resposta\\n\n",
        "pesquisa_web - busca na web pela resposta\\n\n",
        "calculadora - calcula a resposta para a pergunta\\n\n",
        "api_clima - obtém a previsão do tempo para a localização\\n\n",
        "\n",
        "Para usar uma ferramenta, por favor, use o seguinte formato:\n",
        "\n",
        "Pensamento: Preciso usar uma ferramenta? Sim Ação: a ação a ser tomada, deve ser uma das [pesquisa_wikipedia, pesquisa_web, calculadora, api_clima]\n",
        "\n",
        "Entrada da Ação: a entrada para a ação Observação: o resultado da ação\n",
        "\n",
        "Quando você tiver uma resposta a dar ao Humano, ou se não precisar usar uma ferramenta, você DEVE usar o formato:\n",
        "\n",
        "Pensamento: Preciso usar uma ferramenta? Não Resposta Final: [sua resposta aqui]\n",
        "\n",
        "Comece!\n"
      ],
      "metadata": {
        "id": "o0vQNgwBKU0n"
      }
    },
    {
      "cell_type": "code",
      "source": [
        "import os\n",
        "from google.colab import userdata\n",
        "\n",
        "os.environ['OPENAI_API_KEY'] = userdata.get('OPENAI_API_KEY')\n"
      ],
      "metadata": {
        "id": "myACJtH5hDrT"
      },
      "execution_count": null,
      "outputs": []
    },
    {
      "cell_type": "code",
      "source": [
        "from langchain_openai import ChatOpenAI\n",
        "\n",
        "llm = ChatOpenAI(model=\"gpt-4o\")"
      ],
      "metadata": {
        "id": "Iv9zB6BrhbRY"
      },
      "execution_count": null,
      "outputs": []
    },
    {
      "cell_type": "markdown",
      "source": [
        "### Tools"
      ],
      "metadata": {
        "id": "Xjw2pzHJmgcz"
      }
    },
    {
      "cell_type": "code",
      "source": [
        "\n",
        "def multiply(a: int, b: int) -> int:\n",
        "    \"\"\"Multiply a and b.\n",
        "\n",
        "    Args:\n",
        "        a: first int\n",
        "        b: second int\n",
        "    \"\"\"\n",
        "    return a * b\n",
        "\n",
        "# This will be a tool\n",
        "def add(a: int, b: int) -> int:\n",
        "    \"\"\"Adds a and b.\n",
        "\n",
        "    Args:\n",
        "        a: first int\n",
        "        b: second int\n",
        "    \"\"\"\n",
        "    return a + b\n",
        "\n",
        "def divide(a: int, b: int) -> float:\n",
        "    \"\"\"Divide a and b.\n",
        "\n",
        "    Args:\n",
        "        a: first int\n",
        "        b: second int\n",
        "    \"\"\"\n",
        "    return a / b"
      ],
      "metadata": {
        "id": "1AJoWmexhbUQ"
      },
      "execution_count": null,
      "outputs": []
    },
    {
      "cell_type": "code",
      "source": [
        "# search tools\n",
        "from langchain_community.tools import DuckDuckGoSearchRun\n",
        "\n",
        "search = DuckDuckGoSearchRun()\n",
        "\n",
        "search.invoke(\"How old is Brad Pitt?\")"
      ],
      "metadata": {
        "colab": {
          "base_uri": "https://localhost:8080/",
          "height": 157
        },
        "id": "1VfRa-pdmm1u",
        "outputId": "c3ded11d-3447-4ad8-a736-44a2cb733895"
      },
      "execution_count": null,
      "outputs": [
        {
          "output_type": "execute_result",
          "data": {
            "text/plain": [
              "'Brad Pitt. Photo: Amy Sussman/Getty Images. Brad Pitt is opening up about growing older. The Oscar winner, 60, and George Clooney, 63, spoke with GQ in an interview published on Tuesday, August 13 ... Brad Pitt marked his 60th birthday with a celebration at Mother Wolf in Los Angeles this week. One onlooker says the actor \\'looked super happy\\' at the party, and \\'everyone had a smile on their faces.\\' Brad Pitt is an American actor born on December 18, 1963, in Shawnee, Oklahoma. He has starred in various films, won an Academy Award, and married Angelina Jolie. Brad Pitt rang in his six-decade milestone in a big way — twice! Pitt celebrated his 60th birthday on Monday, along with friends and his girlfriend, Ines de Ramon, 33, with \"low key ... Brad Pitt\\'s net worth is estimated to be around $400 million. His acting career alone has contributed significantly to this, with Pitt commanding as much as $20 million per film. ... Born on December 18, 1963, Brad Pitt is 61 years old. His zodiac sign is Sagittarius who are known for being adventurous, independent, and passionate—traits ...'"
            ],
            "application/vnd.google.colaboratory.intrinsic+json": {
              "type": "string"
            }
          },
          "metadata": {},
          "execution_count": 6
        }
      ]
    },
    {
      "cell_type": "code",
      "source": [
        "tools = [add, multiply, divide, search]\n",
        "\n",
        "llm_with_tools = llm.bind_tools(tools)"
      ],
      "metadata": {
        "id": "7rlu8MF-ho6e"
      },
      "execution_count": null,
      "outputs": []
    },
    {
      "cell_type": "code",
      "source": [
        "from langgraph.graph import MessagesState\n",
        "from langchain_core.messages import HumanMessage, SystemMessage\n",
        "\n",
        "# System message\n",
        "sys_msg = SystemMessage(content=\"You are a helpful assistant tasked with using search and performing arithmetic on a set of inputs.\")\n",
        "\n"
      ],
      "metadata": {
        "id": "FlgpM-CFh3SH"
      },
      "execution_count": null,
      "outputs": []
    },
    {
      "cell_type": "markdown",
      "source": [
        "## Nodes"
      ],
      "metadata": {
        "id": "H7z8wrV9550D"
      }
    },
    {
      "cell_type": "code",
      "source": [
        "# Node\n",
        "def reasoner(state: MessagesState):\n",
        "   return {\"messages\": [llm_with_tools.invoke([sys_msg] + state[\"messages\"])]}\n"
      ],
      "metadata": {
        "id": "uJ6mJ1Hcio3U"
      },
      "execution_count": null,
      "outputs": []
    },
    {
      "cell_type": "markdown",
      "source": [
        "### Building the graph"
      ],
      "metadata": {
        "id": "E5T9K_c1nNCP"
      }
    },
    {
      "cell_type": "code",
      "source": [
        "from langgraph.graph import START, StateGraph\n",
        "from langgraph.prebuilt import tools_condition # this is the checker for the if you got a tool back\n",
        "from langgraph.prebuilt import ToolNode\n",
        "from IPython.display import Image, display\n",
        "\n",
        "# Graph\n",
        "builder = StateGraph(MessagesState)\n",
        "\n",
        "# Add nodes\n",
        "builder.add_node(\"reasoner\", reasoner)\n",
        "builder.add_node(\"tools\", ToolNode(tools)) # for the tools\n",
        "\n",
        "# Add edges\n",
        "builder.add_edge(START, \"reasoner\")\n",
        "builder.add_conditional_edges(\n",
        "    \"reasoner\",\n",
        "    # If the latest message (result) from node reasoner is a tool call -> tools_condition routes to tools\n",
        "    # If the latest message (result) from node reasoner is a not a tool call -> tools_condition routes to END\n",
        "    tools_condition,\n",
        ")\n",
        "builder.add_edge(\"tools\", \"reasoner\")\n",
        "react_graph = builder.compile()\n",
        "\n",
        "# Display the graph\n",
        "display(Image(react_graph.get_graph(xray=True).draw_mermaid_png()))"
      ],
      "metadata": {
        "colab": {
          "base_uri": "https://localhost:8080/",
          "height": 266
        },
        "id": "o0FIm4j0io5S",
        "outputId": "65cc7df0-cef4-4b5e-deb7-41b01eb17be3"
      },
      "execution_count": null,
      "outputs": [
        {
          "output_type": "display_data",
          "data": {
            "image/jpeg": "[encoded data removed]",
            "text/plain": [
              "<IPython.core.display.Image object>"
            ]
          },
          "metadata": {}
        }
      ]
    },
    {
      "cell_type": "code",
      "source": [
        "messages = [HumanMessage(content=\"What is 2 times Brad Pitt's age?\")]\n",
        "messages = react_graph.invoke({\"messages\": messages})"
      ],
      "metadata": {
        "id": "yYz5Wc9dio76"
      },
      "execution_count": null,
      "outputs": []
    },
    {
      "cell_type": "code",
      "source": [
        "for m in messages['messages']:\n",
        "    m.pretty_print()"
      ],
      "metadata": {
        "colab": {
          "base_uri": "https://localhost:8080/"
        },
        "id": "GvzaROdwi64G",
        "outputId": "3b549b46-08ed-446e-e28f-8c92c9f0128d"
      },
      "execution_count": null,
      "outputs": [
        {
          "output_type": "stream",
          "name": "stdout",
          "text": [
            "================================\u001b[1m Human Message \u001b[0m=================================\n",
            "\n",
            "What is 2 times Brad Pitt's age?\n",
            "==================================\u001b[1m Ai Message \u001b[0m==================================\n",
            "Tool Calls:\n",
            "  duckduckgo_search (call_Ll4tmu9e4PnAqAqcDx7y1byP)\n",
            " Call ID: call_Ll4tmu9e4PnAqAqcDx7y1byP\n",
            "  Args:\n",
            "    query: Brad Pitt age\n",
            "=================================\u001b[1m Tool Message \u001b[0m=================================\n",
            "Name: duckduckgo_search\n",
            "\n",
            "Brad Pitt's Age & Height Pitt Is a Sagittarius Born on December 18, 1963, Brad Pitt is 61 years old. His zodiac sign is Sagittarius who are known for being adventurous, independent, and passionate—traits that have been central to Pitt's successful career. Whether he's taking ... Brad Pitt Says He Became 'More Aware of' Mortality After Turning 60. ... who is a few years older, reminisced on being Pitt's current age. \"When I turned 60, my wife and I had a nice dinner. We ... Brad Pitt (born December 18, 1963, Shawnee, Oklahoma, U.S.) is an American actor known for his portrayal of unconventional characters and for his good looks.After gaining attention for his role in Thelma & Louise (1991), Pitt channeled his magnetism as a leading man in such movies as A River Runs Through It (1992) and Legends of the Fall (1994) but avoided being typecast by assuming unorthodox ... Brad Pitt marked his 60th birthday with a celebration at Mother Wolf in Los Angeles this week. One onlooker says the actor 'looked super happy' at the party, and 'everyone had a smile on their faces.' Brad Pitt is celebrating his 60th birthday on December 18, 2023, with his girlfriend Ines de Ramon and some of his kids. He is also facing a custody and property battle with his ex-wife Angelina Jolie, who accused him of abuse.\n",
            "==================================\u001b[1m Ai Message \u001b[0m==================================\n",
            "Tool Calls:\n",
            "  multiply (call_4wRdSMd2mEtALZMcZHKKsRvM)\n",
            " Call ID: call_4wRdSMd2mEtALZMcZHKKsRvM\n",
            "  Args:\n",
            "    a: 60\n",
            "    b: 2\n",
            "=================================\u001b[1m Tool Message \u001b[0m=================================\n",
            "Name: multiply\n",
            "\n",
            "120\n",
            "==================================\u001b[1m Ai Message \u001b[0m==================================\n",
            "\n",
            "2 times Brad Pitt's age (60 years) is 120.\n"
          ]
        }
      ]
    },
    {
      "cell_type": "markdown",
      "source": [
        "## More manual way and adding a custom tool"
      ],
      "metadata": {
        "id": "QtczHZq39HKG"
      }
    },
    {
      "cell_type": "code",
      "source": [
        "!pip -q install yahoo-finance"
      ],
      "metadata": {
        "colab": {
          "base_uri": "https://localhost:8080/"
        },
        "id": "KteveCcwHXsl",
        "outputId": "075ae62d-808e-466a-9d1a-ec967ca744d6"
      },
      "execution_count": null,
      "outputs": [
        {
          "output_type": "stream",
          "name": "stdout",
          "text": [
            "  Preparing metadata (setup.py) ... \u001b[?25l\u001b[?25hdone\n",
            "\u001b[2K   \u001b[90m━━━━━━━━━━━━━━━━━━━━━━━━━━━━━━━━━━━━━━━━\u001b[0m \u001b[32m137.9/137.9 kB\u001b[0m \u001b[31m3.9 MB/s\u001b[0m eta \u001b[36m0:00:00\u001b[0m\n",
            "\u001b[?25h  Building wheel for yahoo-finance (setup.py) ... \u001b[?25l\u001b[?25hdone\n"
          ]
        }
      ]
    },
    {
      "cell_type": "code",
      "source": [
        "import yfinance as yf\n",
        "\n",
        "def get_stock_price(ticker: str) -> float:\n",
        "    \"\"\"Gets a stock price from Yahoo Finance.\n",
        "\n",
        "    Args:\n",
        "        ticker: ticker str\n",
        "    \"\"\"\n",
        "    # \"\"\"This is a tool for getting the price of a stock when passed a ticker symbol\"\"\"\n",
        "    stock = yf.Ticker(ticker)\n",
        "    return stock.info['previousClose']"
      ],
      "metadata": {
        "id": "0pMlZscoM6e_"
      },
      "execution_count": null,
      "outputs": []
    },
    {
      "cell_type": "code",
      "source": [
        "get_stock_price(\"AAPL\")"
      ],
      "metadata": {
        "colab": {
          "base_uri": "https://localhost:8080/"
        },
        "id": "PvJ113s9Ljgq",
        "outputId": "8aaa51ed-bbf0-413d-c642-e56170ea69e5"
      },
      "execution_count": null,
      "outputs": [
        {
          "output_type": "execute_result",
          "data": {
            "text/plain": [
              "222.5"
            ]
          },
          "metadata": {},
          "execution_count": 18
        }
      ]
    },
    {
      "cell_type": "code",
      "source": [
        "# from langchain_community.tools.yahoo_finance_news import YahooFinanceNewsTool\n",
        "\n",
        "# y_finance = YahooFinanceNewsTool()\n",
        "\n",
        "# y_finance.invoke(\"AAPL\")"
      ],
      "metadata": {
        "id": "Nlv8Um_zBLac"
      },
      "execution_count": null,
      "outputs": []
    },
    {
      "cell_type": "code",
      "source": [
        "# Node\n",
        "def reasoner(state):\n",
        "    query = state[\"query\"]\n",
        "    messages = state[\"messages\"]\n",
        "    # System message\n",
        "    sys_msg = SystemMessage(content=\"You are a helpful assistant tasked with using search, the yahoo finance tool and performing arithmetic on a set of inputs.\")\n",
        "    message = HumanMessage(content=query)\n",
        "    messages.append(message)\n",
        "    result = [llm_with_tools.invoke([sys_msg] + messages)]\n",
        "    return {\"messages\":result}\n"
      ],
      "metadata": {
        "id": "6-unsLIxCKOq"
      },
      "execution_count": null,
      "outputs": []
    },
    {
      "cell_type": "code",
      "source": [
        "tools = [add, multiply, divide, search, get_stock_price]\n",
        "\n",
        "llm = ChatOpenAI(model=\"gpt-4o\")\n",
        "llm_with_tools = llm.bind_tools(tools)"
      ],
      "metadata": {
        "id": "LBGXfOroEEVD"
      },
      "execution_count": null,
      "outputs": []
    },
    {
      "cell_type": "code",
      "source": [
        "tools[4]"
      ],
      "metadata": {
        "colab": {
          "base_uri": "https://localhost:8080/",
          "height": 155
        },
        "id": "Ak2n1HL1oS2u",
        "outputId": "95fffb2d-f3d4-48b1-da4a-666a8d199475"
      },
      "execution_count": null,
      "outputs": [
        {
          "output_type": "execute_result",
          "data": {
            "text/plain": [
              "<function __main__.get_stock_price(ticker: str) -> float>"
            ],
            "text/html": [
              "<div style=\"max-width:800px; border: 1px solid var(--colab-border-color);\"><style>\n",
              "      pre.function-repr-contents {\n",
              "        overflow-x: auto;\n",
              "        padding: 8px 12px;\n",
              "        max-height: 500px;\n",
              "      }\n",
              "\n",
              "      pre.function-repr-contents.function-repr-contents-collapsed {\n",
              "        cursor: pointer;\n",
              "        max-height: 100px;\n",
              "      }\n",
              "    </style>\n",
              "    <pre style=\"white-space: initial; background:\n",
              "         var(--colab-secondary-surface-color); padding: 8px 12px;\n",
              "         border-bottom: 1px solid var(--colab-border-color);\"><b>get_stock_price</b><br/>def get_stock_price(ticker: str) -&gt; float</pre><pre class=\"function-repr-contents function-repr-contents-collapsed\" style=\"\"><a class=\"filepath\" style=\"display:none\" href=\"#\">/content/&lt;ipython-input-17-dd2f630352cb&gt;</a>Gets a stock price from Yahoo Finance.\n",
              "\n",
              "Args:\n",
              "    ticker: ticker str</pre></div>"
            ]
          },
          "metadata": {},
          "execution_count": 22
        }
      ]
    },
    {
      "cell_type": "code",
      "source": [
        "from typing import Annotated, TypedDict\n",
        "import operator\n",
        "from langchain_core.messages import AnyMessage\n",
        "from langgraph.graph.message import add_messages\n",
        "\n",
        "\n",
        "class GraphState(TypedDict):\n",
        "    \"\"\"State of the graph.\"\"\"\n",
        "    query: str\n",
        "    finance: str\n",
        "    final_answer: str\n",
        "    # intermediate_steps: Annotated[list[tuple[AgentAction, str]], operator.add]\n",
        "    messages: Annotated[list[AnyMessage], operator.add]\n"
      ],
      "metadata": {
        "id": "RH1ap_Yuztf5"
      },
      "execution_count": null,
      "outputs": []
    },
    {
      "cell_type": "code",
      "source": [
        "from langgraph.graph import START, StateGraph\n",
        "from langgraph.prebuilt import tools_condition # this is the checker for the\n",
        "from langgraph.prebuilt import ToolNode\n",
        "\n",
        "\n",
        "# Graph\n",
        "workflow = StateGraph(GraphState)\n",
        "\n",
        "# Add Nodes\n",
        "workflow.add_node(\"reasoner\", reasoner)\n",
        "workflow.add_node(\"tools\", ToolNode(tools)) # for the tools\n",
        "\n",
        "# Add Edges\n",
        "workflow.add_edge(START, \"reasoner\")\n",
        "\n",
        "workflow.add_conditional_edges(\n",
        "    \"reasoner\",\n",
        "    # If the latest message (result) from node reasoner is a tool call -> tools_condition routes to tools\n",
        "    # If the latest message (result) from node reasoner is a not a tool call -> tools_condition routes to END\n",
        "    tools_condition,\n",
        ")\n",
        "workflow.add_edge(\"tools\", \"reasoner\")\n",
        "react_graph = workflow.compile()\n",
        "\n",
        "# Show\n",
        "display(Image(react_graph.get_graph(xray=True).draw_mermaid_png()))"
      ],
      "metadata": {
        "colab": {
          "base_uri": "https://localhost:8080/",
          "height": 266
        },
        "id": "1REv0ndD_Awn",
        "outputId": "9a0edd3f-96c7-4b20-8120-8ff108f10827"
      },
      "execution_count": null,
      "outputs": [
        {
          "output_type": "display_data",
          "data": {
            "image/jpeg": "[encoded data removed]",
            "text/plain": [
              "<IPython.core.display.Image object>"
            ]
          },
          "metadata": {}
        }
      ]
    },
    {
      "cell_type": "markdown",
      "source": [],
      "metadata": {
        "id": "2jIyk5ZwDGxY"
      }
    },
    {
      "cell_type": "code",
      "source": [
        "response = react_graph.invoke({\"query\": \"What is 2 times Brad Pitt's age?\", \"messages\": []})"
      ],
      "metadata": {
        "id": "Zd_qJiEmDHjf"
      },
      "execution_count": null,
      "outputs": []
    },
    {
      "cell_type": "code",
      "source": [
        "response['messages'][-1].pretty_print()"
      ],
      "metadata": {
        "colab": {
          "base_uri": "https://localhost:8080/"
        },
        "id": "CrXHHgZSENOu",
        "outputId": "1b8c67d0-3ba2-4c41-e2b4-6f75f7af3173"
      },
      "execution_count": null,
      "outputs": [
        {
          "output_type": "stream",
          "name": "stdout",
          "text": [
            "==================================\u001b[1m Ai Message \u001b[0m==================================\n",
            "\n",
            "2 times Brad Pitt's age (60) is 120.\n"
          ]
        }
      ]
    },
    {
      "cell_type": "code",
      "source": [
        "response = react_graph.invoke({\"query\": \"What is the stock price of Apple?\", \"messages\": []})"
      ],
      "metadata": {
        "id": "EpBUkfSILf98"
      },
      "execution_count": null,
      "outputs": []
    },
    {
      "cell_type": "code",
      "source": [
        "for m in response['messages']:\n",
        "    m.pretty_print()"
      ],
      "metadata": {
        "id": "w3fZeZGXLf-D",
        "colab": {
          "base_uri": "https://localhost:8080/"
        },
        "outputId": "7b3b3893-79ca-46af-9c13-c93aa0997e52"
      },
      "execution_count": null,
      "outputs": [
        {
          "output_type": "stream",
          "name": "stdout",
          "text": [
            "================================\u001b[1m Human Message \u001b[0m=================================\n",
            "\n",
            "What is the stock price of Apple?\n",
            "==================================\u001b[1m Ai Message \u001b[0m==================================\n",
            "Tool Calls:\n",
            "  get_stock_price (call_X7Y8xbdMg2vo2bI2C6hal7Gz)\n",
            " Call ID: call_X7Y8xbdMg2vo2bI2C6hal7Gz\n",
            "  Args:\n",
            "    ticker: AAPL\n",
            "=================================\u001b[1m Tool Message \u001b[0m=================================\n",
            "Name: get_stock_price\n",
            "\n",
            "222.5\n",
            "================================\u001b[1m Human Message \u001b[0m=================================\n",
            "\n",
            "What is the stock price of Apple?\n",
            "==================================\u001b[1m Ai Message \u001b[0m==================================\n",
            "\n",
            "The stock price of Apple (AAPL) is $222.50.\n"
          ]
        }
      ]
    },
    {
      "cell_type": "code",
      "source": [
        "response = react_graph.invoke({\"query\": \"What is the stock price of the company that Jensen Huang is CEO of?\", \"messages\": []})"
      ],
      "metadata": {
        "id": "c21ouY0PIQh-"
      },
      "execution_count": null,
      "outputs": []
    },
    {
      "cell_type": "code",
      "source": [
        "for m in response['messages']:\n",
        "    m.pretty_print()"
      ],
      "metadata": {
        "colab": {
          "base_uri": "https://localhost:8080/"
        },
        "id": "szgNFSrzJQ0o",
        "outputId": "503e24f7-706d-49dd-99f9-b1d693c4c369"
      },
      "execution_count": null,
      "outputs": [
        {
          "output_type": "stream",
          "name": "stdout",
          "text": [
            "================================\u001b[1m Human Message \u001b[0m=================================\n",
            "\n",
            "What is the stock price of the company that Jensen Huang is CEO of?\n",
            "==================================\u001b[1m Ai Message \u001b[0m==================================\n",
            "Tool Calls:\n",
            "  duckduckgo_search (call_Lx0D1F4vLFCKEPWAVKWn3Dbr)\n",
            " Call ID: call_Lx0D1F4vLFCKEPWAVKWn3Dbr\n",
            "  Args:\n",
            "    query: Jensen Huang CEO company\n",
            "=================================\u001b[1m Tool Message \u001b[0m=================================\n",
            "Name: duckduckgo_search\n",
            "\n",
            "Jensen Huang: from Denny's dishwasher to CEO of Nvidia | 60 Minutes 13:23. Only four companies in the world are worth more than $2 trillion: Microsoft, Apple, Alphabet — parent company of Google ... Nvidia CEO Jensen Huang launched his company in a booth at Denny's with his friends. Meet his cofounder who donated shares now worth $70 billion and moved off the grid ... Jensen Huang, Chris ... Nvidia CEO Jensen Huang delivers his keynote speech ahead of Computex 2024 in Taipei on June 2, 2024. When Nvidia surpassed Apple this week to become America's second most valuable company, its ... Jensen Huang cofounded graphics-chip maker Nvidia in 1993, and has served as its CEO and president ever since. Huang owns approximately 3% of Nvidia, which went public in 1999. Born in Taiwan ... Nvidia pressed ahead in March, when CEO Jensen Huang unveiled Blackwell, the company's latest GPU. Designed in America, but made in Taiwan, Huang said Blackwell is the fastest chip ever and suited ...\n",
            "================================\u001b[1m Human Message \u001b[0m=================================\n",
            "\n",
            "What is the stock price of the company that Jensen Huang is CEO of?\n",
            "==================================\u001b[1m Ai Message \u001b[0m==================================\n",
            "Tool Calls:\n",
            "  get_stock_price (call_oNoDpxpusg19uFl5mBJyxHxB)\n",
            " Call ID: call_oNoDpxpusg19uFl5mBJyxHxB\n",
            "  Args:\n",
            "    ticker: NVDA\n",
            "=================================\u001b[1m Tool Message \u001b[0m=================================\n",
            "Name: get_stock_price\n",
            "\n",
            "119.1\n",
            "================================\u001b[1m Human Message \u001b[0m=================================\n",
            "\n",
            "What is the stock price of the company that Jensen Huang is CEO of?\n",
            "==================================\u001b[1m Ai Message \u001b[0m==================================\n",
            "\n",
            "The stock price of Nvidia (the company where Jensen Huang is the CEO) is $119.10.\n"
          ]
        }
      ]
    },
    {
      "cell_type": "code",
      "source": [],
      "metadata": {
        "id": "-RC8SvteJr62"
      },
      "execution_count": null,
      "outputs": []
    },
    {
      "cell_type": "code",
      "source": [
        "response = react_graph.invoke({\"query\": \"What will be the price of nvidia stock if it doubles?\", \"messages\": []})"
      ],
      "metadata": {
        "id": "MiJ7ooR0qfwm"
      },
      "execution_count": null,
      "outputs": []
    },
    {
      "cell_type": "code",
      "source": [
        "for m in response['messages']:\n",
        "    m.pretty_print()"
      ],
      "metadata": {
        "colab": {
          "base_uri": "https://localhost:8080/"
        },
        "outputId": "a8aded62-fe1a-4747-f1c2-905b1d2dc060",
        "id": "-pVdTUUMqfwn"
      },
      "execution_count": null,
      "outputs": [
        {
          "output_type": "stream",
          "name": "stdout",
          "text": [
            "================================\u001b[1m Human Message \u001b[0m=================================\n",
            "\n",
            "What will be the price of nvidia stock if it doubles?\n",
            "==================================\u001b[1m Ai Message \u001b[0m==================================\n",
            "Tool Calls:\n",
            "  get_stock_price (call_8iPPMM261Ddgr4LdAlhQ4wW9)\n",
            " Call ID: call_8iPPMM261Ddgr4LdAlhQ4wW9\n",
            "  Args:\n",
            "    ticker: NVDA\n",
            "=================================\u001b[1m Tool Message \u001b[0m=================================\n",
            "Name: get_stock_price\n",
            "\n",
            "119.1\n",
            "================================\u001b[1m Human Message \u001b[0m=================================\n",
            "\n",
            "What will be the price of nvidia stock if it doubles?\n",
            "==================================\u001b[1m Ai Message \u001b[0m==================================\n",
            "Tool Calls:\n",
            "  multiply (call_uiTbfZ1pyR4TGayOPHXT1vZB)\n",
            " Call ID: call_uiTbfZ1pyR4TGayOPHXT1vZB\n",
            "  Args:\n",
            "    a: 11910\n",
            "    b: 2\n",
            "=================================\u001b[1m Tool Message \u001b[0m=================================\n",
            "Name: multiply\n",
            "\n",
            "23820\n",
            "================================\u001b[1m Human Message \u001b[0m=================================\n",
            "\n",
            "What will be the price of nvidia stock if it doubles?\n",
            "==================================\u001b[1m Ai Message \u001b[0m==================================\n",
            "\n",
            "If Nvidia's stock price doubles, it will be $238.20.\n"
          ]
        }
      ]
    },
    {
      "cell_type": "code",
      "source": [
        "display(Image(react_graph.get_graph(xray=True).draw_mermaid_png()))"
      ],
      "metadata": {
        "id": "hhs6PnuLMSvW",
        "colab": {
          "base_uri": "https://localhost:8080/",
          "height": 266
        },
        "outputId": "a78f4d9d-0e1b-4ef7-c299-0f58b2c70490"
      },
      "execution_count": null,
      "outputs": [
        {
          "output_type": "display_data",
          "data": {
            "image/jpeg": "[encoded data removed]",
            "text/plain": [
              "<IPython.core.display.Image object>"
            ]
          },
          "metadata": {}
        }
      ]
    },
    {
      "cell_type": "code",
      "source": [],
      "metadata": {
        "id": "LA3LBsu3T2Ag"
      },
      "execution_count": null,
      "outputs": []
    }
  ]
}